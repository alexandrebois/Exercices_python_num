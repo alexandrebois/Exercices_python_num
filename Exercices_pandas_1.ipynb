{
 "cells": [
  {
   "cell_type": "code",
   "execution_count": 71,
   "id": "a9cc7cc3",
   "metadata": {},
   "outputs": [
    {
     "name": "stdout",
     "output_type": "stream",
     "text": [
      "PassengerId      0\n",
      "Survived         0\n",
      "Pclass           0\n",
      "Name             0\n",
      "Sex              0\n",
      "Age            177\n",
      "SibSp            0\n",
      "Parch            0\n",
      "Ticket           0\n",
      "Fare             0\n",
      "Cabin          687\n",
      "Embarked         2\n",
      "dtype: int64\n",
      "3\n",
      "        0         1         2\n",
      "0  classe         M         F\n",
      "1       1  0.050505  0.102132\n",
      "2       2   0.01908  0.078563\n",
      "3       3   0.05275  0.080808\n"
     ]
    }
   ],
   "source": [
    "import pandas as pd \n",
    "import numpy as np\n",
    "\n",
    "# Exercice 1\n",
    "df=pd.read_csv('titanic.csv')\n",
    "\n",
    "print(df.isna().sum())   #valeur manquantes des colonnes\n",
    "\n",
    "print(len(df['Pclass'].unique()))  #nombre de classes dans le titanic\n",
    "\n",
    "#taux de survie homme/femme par classe\n",
    "# Ici j'ai essayé de faire un tableau permettant d'avoir en abscisse le sexe et en ordonné la classe\n",
    "# Le résultat n'est pas optimal car en transformant la liste en DataFrame, des indices apparaisent en ordonné et en abscisse\n",
    "# Il y avait surement une méthode plus simple\n",
    "\n",
    "survie=df[['Survived','Pclass','Sex']] # en fait ce n'est pas nécessaire de passer par une sous-table\n",
    "\n",
    "tab=[[ 'classe','M','F' ]]+[[i,(((survie['Survived']==1 )& (survie['Sex']=='male' ) & (survie['Pclass']==i))).sum()/len((survie['Sex']=='male') & (survie['Pclass']==i)),\n",
    "                            (((survie['Survived']==1 ) & (survie['Sex']=='female') & (survie['Pclass']==i)).sum()/len((survie['Sex']=='female') & (survie['Pclass']==i))) ] for i in range(1,4)]\n",
    "\n",
    "taux_de_survie=pd.DataFrame(tab)\n",
    "\n",
    "print(taux_de_survie)"
   ]
  },
  {
   "cell_type": "code",
   "execution_count": 76,
   "id": "6411d1eb",
   "metadata": {},
   "outputs": [
    {
     "name": "stdout",
     "output_type": "stream",
     "text": [
      "     PassengerId  Survived  Pclass                         Name   Sex   Age  \\\n",
      "744          117         0       3         Connors, Mr. Patrick  male  70.5   \n",
      "769          673         0       2  Mitchell, Mr. Henry Michael  male  70.0   \n",
      "773          852         0       3          Svensson, Mr. Johan  male  74.0   \n",
      "\n",
      "     SibSp  Parch      Ticket    Fare Cabin Embarked  \n",
      "744      0      0      370369   7.750   NaN        Q  \n",
      "769      0      0  C.A. 24580  10.500   NaN        S  \n",
      "773      0      0      347060   7.775   NaN        S  \n"
     ]
    }
   ],
   "source": [
    "# Exercice 2\n",
    "\n",
    "sous_dataframe=df.loc[(df['Pclass']!=1) & (df['Age']>=70) , :]\n",
    "print(sous_dataframe)"
   ]
  }
 ],
 "metadata": {
  "kernelspec": {
   "display_name": "Python 3 (ipykernel)",
   "language": "python",
   "name": "python3"
  },
  "language_info": {
   "codemirror_mode": {
    "name": "ipython",
    "version": 3
   },
   "file_extension": ".py",
   "mimetype": "text/x-python",
   "name": "python",
   "nbconvert_exporter": "python",
   "pygments_lexer": "ipython3",
   "version": "3.9.12"
  }
 },
 "nbformat": 4,
 "nbformat_minor": 5
}
